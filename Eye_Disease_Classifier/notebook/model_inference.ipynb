{
 "cells": [
  {
   "cell_type": "code",
   "execution_count": 10,
   "metadata": {},
   "outputs": [
    {
     "ename": "InvalidProtobuf",
     "evalue": "[ONNXRuntimeError] : 7 : INVALID_PROTOBUF : Load model from C:\\ProjeKt\\computer_vision_project\\Eye_Disease_Classifier\\model\\best.onnx failed:Protobuf parsing failed.",
     "output_type": "error",
     "traceback": [
      "\u001b[1;31m---------------------------------------------------------------------------\u001b[0m",
      "\u001b[1;31mInvalidProtobuf\u001b[0m                           Traceback (most recent call last)",
      "\u001b[1;32mc:\\ProjeKt\\computer_vision_project\\Eye_Disease_Classifier\\notebook\\model_inference.ipynb Cell 1\u001b[0m line \u001b[0;36m7\n\u001b[0;32m      <a href='vscode-notebook-cell:/c%3A/ProjeKt/computer_vision_project/Eye_Disease_Classifier/notebook/model_inference.ipynb#W0sZmlsZQ%3D%3D?line=4'>5</a>\u001b[0m \u001b[39m# Load the ONNX model\u001b[39;00m\n\u001b[0;32m      <a href='vscode-notebook-cell:/c%3A/ProjeKt/computer_vision_project/Eye_Disease_Classifier/notebook/model_inference.ipynb#W0sZmlsZQ%3D%3D?line=5'>6</a>\u001b[0m model_path \u001b[39m=\u001b[39m \u001b[39mr\u001b[39m\u001b[39m\"\u001b[39m\u001b[39mC:\u001b[39m\u001b[39m\\\u001b[39m\u001b[39mProjeKt\u001b[39m\u001b[39m\\\u001b[39m\u001b[39mcomputer_vision_project\u001b[39m\u001b[39m\\\u001b[39m\u001b[39mEye_Disease_Classifier\u001b[39m\u001b[39m\\\u001b[39m\u001b[39mmodel\u001b[39m\u001b[39m\\\u001b[39m\u001b[39mbest.onnx\u001b[39m\u001b[39m\"\u001b[39m\n\u001b[1;32m----> <a href='vscode-notebook-cell:/c%3A/ProjeKt/computer_vision_project/Eye_Disease_Classifier/notebook/model_inference.ipynb#W0sZmlsZQ%3D%3D?line=6'>7</a>\u001b[0m session \u001b[39m=\u001b[39m onnxruntime\u001b[39m.\u001b[39;49mInferenceSession(model_path)\n",
      "File \u001b[1;32mc:\\Users\\diwas\\anaconda3\\envs\\ai_base\\lib\\site-packages\\onnxruntime\\capi\\onnxruntime_inference_collection.py:419\u001b[0m, in \u001b[0;36mInferenceSession.__init__\u001b[1;34m(self, path_or_bytes, sess_options, providers, provider_options, **kwargs)\u001b[0m\n\u001b[0;32m    416\u001b[0m disabled_optimizers \u001b[39m=\u001b[39m kwargs[\u001b[39m\"\u001b[39m\u001b[39mdisabled_optimizers\u001b[39m\u001b[39m\"\u001b[39m] \u001b[39mif\u001b[39;00m \u001b[39m\"\u001b[39m\u001b[39mdisabled_optimizers\u001b[39m\u001b[39m\"\u001b[39m \u001b[39min\u001b[39;00m kwargs \u001b[39melse\u001b[39;00m \u001b[39mNone\u001b[39;00m\n\u001b[0;32m    418\u001b[0m \u001b[39mtry\u001b[39;00m:\n\u001b[1;32m--> 419\u001b[0m     \u001b[39mself\u001b[39;49m\u001b[39m.\u001b[39;49m_create_inference_session(providers, provider_options, disabled_optimizers)\n\u001b[0;32m    420\u001b[0m \u001b[39mexcept\u001b[39;00m (\u001b[39mValueError\u001b[39;00m, \u001b[39mRuntimeError\u001b[39;00m) \u001b[39mas\u001b[39;00m e:\n\u001b[0;32m    421\u001b[0m     \u001b[39mif\u001b[39;00m \u001b[39mself\u001b[39m\u001b[39m.\u001b[39m_enable_fallback:\n",
      "File \u001b[1;32mc:\\Users\\diwas\\anaconda3\\envs\\ai_base\\lib\\site-packages\\onnxruntime\\capi\\onnxruntime_inference_collection.py:452\u001b[0m, in \u001b[0;36mInferenceSession._create_inference_session\u001b[1;34m(self, providers, provider_options, disabled_optimizers)\u001b[0m\n\u001b[0;32m    450\u001b[0m session_options \u001b[39m=\u001b[39m \u001b[39mself\u001b[39m\u001b[39m.\u001b[39m_sess_options \u001b[39mif\u001b[39;00m \u001b[39mself\u001b[39m\u001b[39m.\u001b[39m_sess_options \u001b[39melse\u001b[39;00m C\u001b[39m.\u001b[39mget_default_session_options()\n\u001b[0;32m    451\u001b[0m \u001b[39mif\u001b[39;00m \u001b[39mself\u001b[39m\u001b[39m.\u001b[39m_model_path:\n\u001b[1;32m--> 452\u001b[0m     sess \u001b[39m=\u001b[39m C\u001b[39m.\u001b[39;49mInferenceSession(session_options, \u001b[39mself\u001b[39;49m\u001b[39m.\u001b[39;49m_model_path, \u001b[39mTrue\u001b[39;49;00m, \u001b[39mself\u001b[39;49m\u001b[39m.\u001b[39;49m_read_config_from_model)\n\u001b[0;32m    453\u001b[0m \u001b[39melse\u001b[39;00m:\n\u001b[0;32m    454\u001b[0m     sess \u001b[39m=\u001b[39m C\u001b[39m.\u001b[39mInferenceSession(session_options, \u001b[39mself\u001b[39m\u001b[39m.\u001b[39m_model_bytes, \u001b[39mFalse\u001b[39;00m, \u001b[39mself\u001b[39m\u001b[39m.\u001b[39m_read_config_from_model)\n",
      "\u001b[1;31mInvalidProtobuf\u001b[0m: [ONNXRuntimeError] : 7 : INVALID_PROTOBUF : Load model from C:\\ProjeKt\\computer_vision_project\\Eye_Disease_Classifier\\model\\best.onnx failed:Protobuf parsing failed."
     ]
    }
   ],
   "source": [
    "import onnxruntime\n",
    "import numpy as np\n",
    "from PIL import Image\n",
    "\n",
    "# Load the ONNX model\n",
    "model_path = r\"C:\\ProjeKt\\computer_vision_project\\Eye_Disease_Classifier\\model\\best.onnx\"\n",
    "session = onnxruntime.InferenceSession(model_path)"
   ]
  },
  {
   "cell_type": "code",
   "execution_count": null,
   "metadata": {},
   "outputs": [],
   "source": [
    "# Preprocess the input image\n",
    "image_path = \"path/to/your/input_image.jpg\"\n",
    "image = Image.open(image_path)\n",
    "# Perform any necessary preprocessing steps here, such as resizing, normalization, etc.\n",
    "# For example, you can resize the image to match the model's input size:\n",
    "input_size = (224, 224)\n",
    "image = image.resize(input_size)\n",
    "image_array = np.array(image)\n",
    "input_data = np.expand_dims(image_array, axis=0)\n",
    "\n",
    "# Run the inference\n",
    "input_name = session.get_inputs()[0].name\n",
    "output_names = [output.name for output in session.get_outputs()]\n",
    "outputs = session.run(output_names, {input_name: input_data})\n",
    "\n",
    "# Process the output\n",
    "predicted_diseases = []\n",
    "for output in outputs:\n",
    "    # Perform any necessary post-processing steps here, such as decoding, thresholding, etc.\n",
    "    # For example, you can obtain the predicted disease names from the output probabilities:\n",
    "    disease_names = [\"Disease A\", \"Disease B\", \"Disease C\", \"Disease D\"]\n",
    "    predicted_disease = disease_names[np.argmax(output)]\n",
    "    predicted_diseases.append(predicted_disease)\n",
    "\n",
    "# Print the predicted disease names\n",
    "print(predicted_diseases)\n"
   ]
  },
  {
   "cell_type": "code",
   "execution_count": 2,
   "metadata": {},
   "outputs": [
    {
     "name": "stdout",
     "output_type": "stream",
     "text": [
      "\n",
      "image 1/1 C:\\ProjeKt\\computer_vision_project\\Eye_Disease_Classifier\\notebook\\data\\_163_2414975.jpg: 224x224 cataract 0.99, glaucoma 0.01, normal 0.00, diabetic_retinopathy 0.00, 279.7ms\n",
      "Speed: 5.5ms preprocess, 279.7ms inference, 0.5ms postprocess per image at shape (1, 3, 224, 224)\n",
      "Warning: Classify task do not support `tojson` yet.\n",
      "None\n"
     ]
    }
   ],
   "source": [
    "from ultralytics import YOLO\n",
    "\n",
    "# Load model\n",
    "model = YOLO('best.pt')\n",
    "\n",
    "# # Run inference\n",
    "path = r\"C:\\ProjeKt\\computer_vision_project\\Eye_Disease_Classifier\\notebook\\data\\_163_2414975.jpg\"\n",
    "results = model(path)\n",
    "\n",
    "# # Print image.jpg results in JSON format\n",
    "print(results[0].tojson())"
   ]
  },
  {
   "cell_type": "code",
   "execution_count": 3,
   "metadata": {},
   "outputs": [
    {
     "data": {
      "text/plain": [
       "[ultralytics.engine.results.Results object with attributes:\n",
       " \n",
       " boxes: None\n",
       " keypoints: None\n",
       " masks: None\n",
       " names: {0: 'cataract', 1: 'diabetic_retinopathy', 2: 'glaucoma', 3: 'normal'}\n",
       " orig_img: array([[[0, 0, 0],\n",
       "         [0, 0, 0],\n",
       "         [0, 0, 0],\n",
       "         ...,\n",
       "         [0, 0, 0],\n",
       "         [0, 0, 0],\n",
       "         [0, 0, 0]],\n",
       " \n",
       "        [[0, 0, 0],\n",
       "         [0, 0, 0],\n",
       "         [0, 0, 0],\n",
       "         ...,\n",
       "         [0, 0, 0],\n",
       "         [0, 0, 0],\n",
       "         [0, 0, 0]],\n",
       " \n",
       "        [[0, 0, 0],\n",
       "         [0, 0, 0],\n",
       "         [0, 0, 0],\n",
       "         ...,\n",
       "         [0, 0, 0],\n",
       "         [0, 0, 0],\n",
       "         [0, 0, 0]],\n",
       " \n",
       "        ...,\n",
       " \n",
       "        [[0, 0, 0],\n",
       "         [0, 0, 0],\n",
       "         [0, 0, 0],\n",
       "         ...,\n",
       "         [0, 0, 0],\n",
       "         [0, 0, 0],\n",
       "         [0, 0, 0]],\n",
       " \n",
       "        [[0, 0, 0],\n",
       "         [0, 0, 0],\n",
       "         [0, 0, 0],\n",
       "         ...,\n",
       "         [0, 0, 0],\n",
       "         [0, 0, 0],\n",
       "         [0, 0, 0]],\n",
       " \n",
       "        [[0, 0, 0],\n",
       "         [0, 0, 0],\n",
       "         [0, 0, 0],\n",
       "         ...,\n",
       "         [0, 0, 0],\n",
       "         [0, 0, 0],\n",
       "         [0, 0, 0]]], dtype=uint8)\n",
       " orig_shape: (256, 256)\n",
       " path: 'C:\\\\ProjeKt\\\\computer_vision_project\\\\Eye_Disease_Classifier\\\\notebook\\\\data\\\\_163_2414975.jpg'\n",
       " probs: ultralytics.engine.results.Probs object\n",
       " save_dir: None\n",
       " speed: {'preprocess': 5.502462387084961, 'inference': 279.73008155822754, 'postprocess': 0.5097389221191406}]"
      ]
     },
     "execution_count": 3,
     "metadata": {},
     "output_type": "execute_result"
    }
   ],
   "source": [
    "results"
   ]
  },
  {
   "cell_type": "code",
   "execution_count": 4,
   "metadata": {},
   "outputs": [
    {
     "name": "stdout",
     "output_type": "stream",
     "text": [
      "ultralytics.engine.results.Probs object with attributes:\n",
      "\n",
      "data: tensor([9.9237e-01, 7.0895e-09, 7.2448e-03, 3.8586e-04])\n",
      "orig_shape: None\n",
      "shape: torch.Size([4])\n",
      "top1: 0\n",
      "top1conf: tensor(0.9924)\n",
      "top5: [0, 2, 3, 1]\n",
      "top5conf: tensor([9.9237e-01, 7.2448e-03, 3.8586e-04, 7.0895e-09])\n"
     ]
    }
   ],
   "source": [
    "for r in results:\n",
    "    print(r.probs)"
   ]
  },
  {
   "cell_type": "code",
   "execution_count": 7,
   "metadata": {},
   "outputs": [
    {
     "data": {
      "text/plain": [
       "0"
      ]
     },
     "execution_count": 7,
     "metadata": {},
     "output_type": "execute_result"
    }
   ],
   "source": [
    "results[0].probs.top5[0]"
   ]
  },
  {
   "cell_type": "code",
   "execution_count": 8,
   "metadata": {},
   "outputs": [
    {
     "data": {
      "text/plain": [
       "0.9923691749572754"
      ]
     },
     "execution_count": 8,
     "metadata": {},
     "output_type": "execute_result"
    }
   ],
   "source": [
    "results[0].probs.top5conf.tolist()[0]"
   ]
  },
  {
   "cell_type": "code",
   "execution_count": 13,
   "metadata": {},
   "outputs": [],
   "source": [
    "disease_classes = {0: 'cataract', 1: 'diabetic_retinopathy', 2: 'glaucoma', 3: 'normal'}"
   ]
  },
  {
   "cell_type": "code",
   "execution_count": 14,
   "metadata": {},
   "outputs": [
    {
     "data": {
      "text/plain": [
       "'cataract'"
      ]
     },
     "execution_count": 14,
     "metadata": {},
     "output_type": "execute_result"
    }
   ],
   "source": [
    "disease_classes = {0: 'cataract', 1: 'diabetic_retinopathy', 2: 'glaucoma', 3: 'normal'}\n",
    "disease_classes[results[0].probs.top5[0]]"
   ]
  },
  {
   "cell_type": "code",
   "execution_count": null,
   "metadata": {},
   "outputs": [],
   "source": []
  }
 ],
 "metadata": {
  "kernelspec": {
   "display_name": "ai_base",
   "language": "python",
   "name": "python3"
  },
  "language_info": {
   "codemirror_mode": {
    "name": "ipython",
    "version": 3
   },
   "file_extension": ".py",
   "mimetype": "text/x-python",
   "name": "python",
   "nbconvert_exporter": "python",
   "pygments_lexer": "ipython3",
   "version": "3.10.8"
  }
 },
 "nbformat": 4,
 "nbformat_minor": 2
}
